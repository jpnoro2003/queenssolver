{
 "cells": [
  {
   "cell_type": "code",
   "execution_count": 1,
   "metadata": {},
   "outputs": [],
   "source": [
    "import pandas as pd\n",
    "from ortools.linear_solver import pywraplp"
   ]
  },
  {
   "cell_type": "code",
   "execution_count": 2,
   "metadata": {},
   "outputs": [
    {
     "data": {
      "text/plain": [
       "[[1, 1, 1, 1, 1, 2, 2, 2, 2, 2],\n",
       " [1, 1, 1, 3, 2, 2, 3, 2, 2, 2],\n",
       " [1, 1, 3, 3, 2, 2, 3, 3, 2, 2],\n",
       " [9, 1, 3, 3, 3, 3, 3, 3, 4, 2],\n",
       " [9, 1, 1, 3, 3, 3, 3, 4, 4, 2],\n",
       " [9, 9, 1, 1, 3, 3, 6, 5, 5, 2],\n",
       " [9, 8, 8, 10, 3, 3, 6, 6, 5, 2],\n",
       " [8, 8, 10, 10, 3, 3, 6, 6, 7, 2],\n",
       " [8, 8, 3, 3, 3, 3, 3, 3, 7, 2],\n",
       " [8, 7, 7, 7, 7, 7, 7, 7, 7, 7]]"
      ]
     },
     "execution_count": 2,
     "metadata": {},
     "output_type": "execute_result"
    }
   ],
   "source": [
    "# convert csv into array\n",
    "test = pd.read_csv(\"test.csv\", header=None)\n",
    "test_dict = test.transpose().to_dict()\n",
    "nested_arr = []\n",
    "for i in test_dict.keys():\n",
    "    nested_arr.append([])\n",
    "for i in test_dict.keys():\n",
    "    for j in test_dict[i].keys():\n",
    "        nested_arr[i].append(test_dict[i][j])\n",
    "nested_arr"
   ]
  },
  {
   "cell_type": "code",
   "execution_count": 3,
   "metadata": {},
   "outputs": [],
   "source": [
    "def create_data_model():\n",
    "    data = {}\n",
    "    data[\"constraint_coeffs\"] = []\n",
    "    data[\"bounds\"] = []\n",
    "    data[\"obj_coeffs\"] = [1 for i in range(len(nested_arr)**2)]\n",
    "    data[\"num_vars\"] = len(nested_arr)**2\n",
    "    data[\"num_constraints\"] = 0\n",
    "    return data\n",
    "\n",
    "model = create_data_model()"
   ]
  },
  {
   "cell_type": "code",
   "execution_count": 4,
   "metadata": {},
   "outputs": [],
   "source": [
    "# category constraints\n",
    "for category in range(len(nested_arr)):\n",
    "    constraint = []\n",
    "    for i in range(len(nested_arr)):\n",
    "        for j in range(len(nested_arr)):\n",
    "            if nested_arr[i][j] == category + 1:\n",
    "                constraint.append(1)\n",
    "            else:\n",
    "                constraint.append(0)\n",
    "    # print(category+1, constraint)\n",
    "    model[\"constraint_coeffs\"].append(constraint)\n",
    "    model[\"bounds\"].append(1)\n",
    "    model[\"num_constraints\"] = model[\"num_constraints\"] + 1\n"
   ]
  },
  {
   "cell_type": "code",
   "execution_count": 5,
   "metadata": {},
   "outputs": [],
   "source": [
    "# row constraints\n",
    "for i in range(len(nested_arr)):\n",
    "    constraint = [0 for i in range(len(nested_arr)**2)]\n",
    "    for j in range(len(nested_arr)):\n",
    "        constraint[i*len(nested_arr)+j] = 1\n",
    "    # print(i+1, constraint)\n",
    "    model[\"constraint_coeffs\"].append(constraint)\n",
    "    model[\"bounds\"].append(1)\n",
    "    model[\"num_constraints\"] = model[\"num_constraints\"] + 1"
   ]
  },
  {
   "cell_type": "code",
   "execution_count": 6,
   "metadata": {},
   "outputs": [],
   "source": [
    "# column constraints\n",
    "for i in range(len(nested_arr)):\n",
    "    constraint = [0 for i in range(len(nested_arr)**2)]\n",
    "    for j in range(len(nested_arr)):\n",
    "        constraint[i+len(nested_arr)*j] = 1\n",
    "    # print(i+1, constraint)\n",
    "    model[\"constraint_coeffs\"].append(constraint)\n",
    "    model[\"bounds\"].append(1)\n",
    "    model[\"num_constraints\"] = model[\"num_constraints\"] + 1"
   ]
  },
  {
   "cell_type": "code",
   "execution_count": 7,
   "metadata": {},
   "outputs": [],
   "source": [
    "# closeness constraints - right diagonal (for each cell, the immediate diagonal has at most one queen - other adjacencies assured by previous constraints)\n",
    "for i in range(len(nested_arr)-1): #row\n",
    "    for j in range(len(nested_arr) - 1): #col\n",
    "        constraint = [0 for i in range(len(nested_arr)**2)]\n",
    "        constraint[len(nested_arr)*i+j] = 1\n",
    "        constraint[len(nested_arr)*(i+1)+j+1] = 1\n",
    "        # print(i,j,constraint)\n",
    "        model[\"constraint_coeffs\"].append(constraint)\n",
    "        model[\"bounds\"].append(1)\n",
    "        model[\"num_constraints\"] = model[\"num_constraints\"] + 1"
   ]
  },
  {
   "cell_type": "code",
   "execution_count": 8,
   "metadata": {},
   "outputs": [],
   "source": [
    "# closeness constraints - left diagonal\n",
    "for i in range(len(nested_arr)-1):\n",
    "    for j in range(1,len(nested_arr)):\n",
    "        constraint = [0 for i in range(len(nested_arr)**2)]\n",
    "        constraint[len(nested_arr)*i+j] = 1\n",
    "        constraint[len(nested_arr)*(i+1)+j-1] = 1\n",
    "        # print(i,j,constraint)\n",
    "        model[\"constraint_coeffs\"].append(constraint)\n",
    "        model[\"bounds\"].append(1)\n",
    "        model[\"num_constraints\"] = model[\"num_constraints\"] + 1"
   ]
  },
  {
   "cell_type": "code",
   "execution_count": 9,
   "metadata": {},
   "outputs": [],
   "source": [
    "solver = pywraplp.Solver.CreateSolver(\"SCIP\")\n",
    "if not solver:\n",
    "    print(\"no\")"
   ]
  },
  {
   "cell_type": "code",
   "execution_count": 10,
   "metadata": {},
   "outputs": [
    {
     "name": "stdout",
     "output_type": "stream",
     "text": [
      "Number of variables = 100\n",
      "{0: x[0], 1: x[1], 2: x[2], 3: x[3], 4: x[4], 5: x[5], 6: x[6], 7: x[7], 8: x[8], 9: x[9], 10: x[10], 11: x[11], 12: x[12], 13: x[13], 14: x[14], 15: x[15], 16: x[16], 17: x[17], 18: x[18], 19: x[19], 20: x[20], 21: x[21], 22: x[22], 23: x[23], 24: x[24], 25: x[25], 26: x[26], 27: x[27], 28: x[28], 29: x[29], 30: x[30], 31: x[31], 32: x[32], 33: x[33], 34: x[34], 35: x[35], 36: x[36], 37: x[37], 38: x[38], 39: x[39], 40: x[40], 41: x[41], 42: x[42], 43: x[43], 44: x[44], 45: x[45], 46: x[46], 47: x[47], 48: x[48], 49: x[49], 50: x[50], 51: x[51], 52: x[52], 53: x[53], 54: x[54], 55: x[55], 56: x[56], 57: x[57], 58: x[58], 59: x[59], 60: x[60], 61: x[61], 62: x[62], 63: x[63], 64: x[64], 65: x[65], 66: x[66], 67: x[67], 68: x[68], 69: x[69], 70: x[70], 71: x[71], 72: x[72], 73: x[73], 74: x[74], 75: x[75], 76: x[76], 77: x[77], 78: x[78], 79: x[79], 80: x[80], 81: x[81], 82: x[82], 83: x[83], 84: x[84], 85: x[85], 86: x[86], 87: x[87], 88: x[88], 89: x[89], 90: x[90], 91: x[91], 92: x[92], 93: x[93], 94: x[94], 95: x[95], 96: x[96], 97: x[97], 98: x[98], 99: x[99]}\n"
     ]
    }
   ],
   "source": [
    "# initialize variables\n",
    "x = {}\n",
    "for j in range(model[\"num_vars\"]):\n",
    "    x[j] = solver.IntVar(0, 1, \"x[%i]\" % j)\n",
    "print(\"Number of variables =\", solver.NumVariables())\n",
    "print(x)"
   ]
  },
  {
   "cell_type": "code",
   "execution_count": 11,
   "metadata": {},
   "outputs": [
    {
     "name": "stdout",
     "output_type": "stream",
     "text": [
      "Number of constraints = 192\n"
     ]
    }
   ],
   "source": [
    "# initialize constraints\n",
    "for i in range(model[\"num_constraints\"]):\n",
    "    constraint = solver.RowConstraint(0, model[\"bounds\"][i], \"\")\n",
    "    for j in range(model[\"num_vars\"]):\n",
    "        constraint.SetCoefficient(x[j], model[\"constraint_coeffs\"][i][j])\n",
    "print(\"Number of constraints =\", solver.NumConstraints())"
   ]
  },
  {
   "cell_type": "code",
   "execution_count": 12,
   "metadata": {},
   "outputs": [],
   "source": [
    "# set objective\n",
    "objective = solver.Objective()\n",
    "for j in range(model[\"num_vars\"]):\n",
    "    objective.SetCoefficient(x[j], model[\"obj_coeffs\"][j])\n",
    "objective.SetMaximization()"
   ]
  },
  {
   "cell_type": "code",
   "execution_count": 13,
   "metadata": {},
   "outputs": [
    {
     "name": "stdout",
     "output_type": "stream",
     "text": [
      "Solving with SCIP 9.0.0 [LP solver: Glop 9.10]\n"
     ]
    }
   ],
   "source": [
    "# solve\n",
    "print(f\"Solving with {solver.SolverVersion()}\")\n",
    "status = solver.Solve()"
   ]
  },
  {
   "cell_type": "code",
   "execution_count": 14,
   "metadata": {},
   "outputs": [
    {
     "name": "stdout",
     "output_type": "stream",
     "text": [
      "Objective value = 10.0\n",
      "x[0]  =  0.0\n",
      "x[1]  =  0.0\n",
      "x[2]  =  0.0\n",
      "x[3]  =  0.0\n",
      "x[4]  =  1.0\n",
      "x[5]  =  0.0\n",
      "x[6]  =  0.0\n",
      "x[7]  =  0.0\n",
      "x[8]  =  0.0\n",
      "x[9]  =  0.0\n",
      "x[10]  =  0.0\n",
      "x[11]  =  0.0\n",
      "x[12]  =  0.0\n",
      "x[13]  =  0.0\n",
      "x[14]  =  0.0\n",
      "x[15]  =  0.0\n",
      "x[16]  =  0.0\n",
      "x[17]  =  0.0\n",
      "x[18]  =  0.0\n",
      "x[19]  =  1.0\n",
      "x[20]  =  0.0\n",
      "x[21]  =  0.0\n",
      "x[22]  =  1.0\n",
      "x[23]  =  0.0\n",
      "x[24]  =  0.0\n",
      "x[25]  =  0.0\n",
      "x[26]  =  0.0\n",
      "x[27]  =  0.0\n",
      "x[28]  =  0.0\n",
      "x[29]  =  0.0\n",
      "x[30]  =  0.0\n",
      "x[31]  =  0.0\n",
      "x[32]  =  0.0\n",
      "x[33]  =  0.0\n",
      "x[34]  =  0.0\n",
      "x[35]  =  0.0\n",
      "x[36]  =  0.0\n",
      "x[37]  =  0.0\n",
      "x[38]  =  1.0\n",
      "x[39]  =  0.0\n",
      "x[40]  =  1.0\n",
      "x[41]  =  0.0\n",
      "x[42]  =  0.0\n",
      "x[43]  =  0.0\n",
      "x[44]  =  0.0\n",
      "x[45]  =  0.0\n",
      "x[46]  =  0.0\n",
      "x[47]  =  0.0\n",
      "x[48]  =  0.0\n",
      "x[49]  =  0.0\n",
      "x[50]  =  0.0\n",
      "x[51]  =  0.0\n",
      "x[52]  =  0.0\n",
      "x[53]  =  0.0\n",
      "x[54]  =  0.0\n",
      "x[55]  =  0.0\n",
      "x[56]  =  0.0\n",
      "x[57]  =  1.0\n",
      "x[58]  =  0.0\n",
      "x[59]  =  0.0\n",
      "x[60]  =  0.0\n",
      "x[61]  =  0.0\n",
      "x[62]  =  0.0\n",
      "x[63]  =  1.0\n",
      "x[64]  =  0.0\n",
      "x[65]  =  0.0\n",
      "x[66]  =  0.0\n",
      "x[67]  =  0.0\n",
      "x[68]  =  0.0\n",
      "x[69]  =  0.0\n",
      "x[70]  =  0.0\n",
      "x[71]  =  0.0\n",
      "x[72]  =  0.0\n",
      "x[73]  =  0.0\n",
      "x[74]  =  0.0\n",
      "x[75]  =  0.0\n",
      "x[76]  =  1.0\n",
      "x[77]  =  0.0\n",
      "x[78]  =  0.0\n",
      "x[79]  =  0.0\n",
      "x[80]  =  0.0\n",
      "x[81]  =  1.0\n",
      "x[82]  =  0.0\n",
      "x[83]  =  0.0\n",
      "x[84]  =  0.0\n",
      "x[85]  =  0.0\n",
      "x[86]  =  0.0\n",
      "x[87]  =  0.0\n",
      "x[88]  =  0.0\n",
      "x[89]  =  0.0\n",
      "x[90]  =  0.0\n",
      "x[91]  =  0.0\n",
      "x[92]  =  0.0\n",
      "x[93]  =  0.0\n",
      "x[94]  =  0.0\n",
      "x[95]  =  1.0\n",
      "x[96]  =  0.0\n",
      "x[97]  =  0.0\n",
      "x[98]  =  0.0\n",
      "x[99]  =  0.0\n",
      "\n",
      "Problem solved in 188 milliseconds\n",
      "Problem solved in 107 iterations\n",
      "Problem solved in 1 branch-and-bound nodes\n"
     ]
    }
   ],
   "source": [
    "if status == pywraplp.Solver.OPTIMAL:\n",
    "    print(\"Objective value =\", solver.Objective().Value())\n",
    "    for j in range(model[\"num_vars\"]):\n",
    "        print(x[j].name(), \" = \", x[j].solution_value())\n",
    "    print()\n",
    "    print(f\"Problem solved in {solver.wall_time():d} milliseconds\")\n",
    "    print(f\"Problem solved in {solver.iterations():d} iterations\")\n",
    "    print(f\"Problem solved in {solver.nodes():d} branch-and-bound nodes\")\n",
    "else:\n",
    "    print(\"The problem does not have an optimal solution.\")"
   ]
  },
  {
   "cell_type": "code",
   "execution_count": 15,
   "metadata": {},
   "outputs": [
    {
     "data": {
      "text/plain": [
       "[[0, 0, 0, 0, 1, 0, 0, 0, 0, 0],\n",
       " [0, 0, 0, 0, 0, 0, 0, 0, 0, 1],\n",
       " [0, 0, 1, 0, 0, 0, 0, 0, 0, 0],\n",
       " [0, 0, 0, 0, 0, 0, 0, 0, 1, 0],\n",
       " [1, 0, 0, 0, 0, 0, 0, 0, 0, 0],\n",
       " [0, 0, 0, 0, 0, 0, 0, 1, 0, 0],\n",
       " [0, 0, 0, 1, 0, 0, 0, 0, 0, 0],\n",
       " [0, 0, 0, 0, 0, 0, 1, 0, 0, 0],\n",
       " [0, 1, 0, 0, 0, 0, 0, 0, 0, 0],\n",
       " [0, 0, 0, 0, 0, 1, 0, 0, 0, 0]]"
      ]
     },
     "execution_count": 15,
     "metadata": {},
     "output_type": "execute_result"
    }
   ],
   "source": [
    "# Print solution neatly\n",
    "sol_arr = []\n",
    "row = []\n",
    "for j in range(model[\"num_vars\"]):     \n",
    "        row.append(1 if x[j].solution_value() == 1.0 else 0)\n",
    "        if len(row) == len(nested_arr):\n",
    "                sol_arr.append(row)\n",
    "                row = []\n",
    "sol_arr"
   ]
  }
 ],
 "metadata": {
  "kernelspec": {
   "display_name": "Python 3",
   "language": "python",
   "name": "python3"
  },
  "language_info": {
   "codemirror_mode": {
    "name": "ipython",
    "version": 3
   },
   "file_extension": ".py",
   "mimetype": "text/x-python",
   "name": "python",
   "nbconvert_exporter": "python",
   "pygments_lexer": "ipython3",
   "version": "3.12.5"
  }
 },
 "nbformat": 4,
 "nbformat_minor": 2
}
